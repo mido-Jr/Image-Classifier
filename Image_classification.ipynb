{
 "cells": [
  {
   "cell_type": "markdown",
   "metadata": {
    "id": "jR8Kvsyi67eC",
    "tags": []
   },
   "source": [
    "# 1- Setup and Load Data"
   ]
  },
  {
   "cell_type": "markdown",
   "metadata": {
    "id": "6GRv8zqn7UNi"
   },
   "source": [
    "## 1.1 Install libraries\n",
    "\n"
   ]
  },
  {
   "cell_type": "code",
   "execution_count": 1,
   "metadata": {
    "colab": {
     "base_uri": "https://localhost:8080/"
    },
    "id": "VXilLWzIkCAT",
    "outputId": "c70a9b25-b8d2-48ed-a316-5ca02851b6d7",
    "tags": []
   },
   "outputs": [],
   "source": [
    "#! pip install tensorflow tensorflow-gpu opencv-python matplotlib"
   ]
  },
  {
   "cell_type": "code",
   "execution_count": 2,
   "metadata": {
    "id": "9XQiKUF59KF5",
    "tags": []
   },
   "outputs": [],
   "source": [
    "# Import libraries\n",
    "import os\n",
    "import tensorflow as tf\n",
    "import pandas as pd\n",
    "import numpy as np\n",
    "import matplotlib.pyplot as plt\n",
    "%matplotlib inline"
   ]
  },
  {
   "cell_type": "code",
   "execution_count": 3,
   "metadata": {
    "id": "UJjAy7WQ-bT-",
    "tags": []
   },
   "outputs": [],
   "source": [
    "# Avoid OOM Errors by setting GPU Memory Consumption Growth\n",
    "gpus = tf.config.experimental.list_physical_devices('GPU')\n",
    "for gpu in gpus:\n",
    "    tf.config.experimental.set_memory_growth(gpu, True)"
   ]
  },
  {
   "cell_type": "code",
   "execution_count": 4,
   "metadata": {},
   "outputs": [
    {
     "data": {
      "text/plain": [
       "[PhysicalDevice(name='/physical_device:GPU:0', device_type='GPU')]"
      ]
     },
     "execution_count": 4,
     "metadata": {},
     "output_type": "execute_result"
    }
   ],
   "source": [
    "gpus"
   ]
  },
  {
   "cell_type": "markdown",
   "metadata": {
    "id": "0La_FkmLcW2j"
   },
   "source": [
    "## 1.2 Removing dodgy Images"
   ]
  },
  {
   "cell_type": "code",
   "execution_count": 5,
   "metadata": {
    "id": "EtqsUR-z_omp"
   },
   "outputs": [],
   "source": [
    "# import libraries\n",
    "import cv2 as cv\n",
    "import imghdr"
   ]
  },
  {
   "cell_type": "code",
   "execution_count": 6,
   "metadata": {},
   "outputs": [],
   "source": [
    "data_dir = 'data'"
   ]
  },
  {
   "cell_type": "code",
   "execution_count": 7,
   "metadata": {},
   "outputs": [
    {
     "data": {
      "text/plain": [
       "['happy', 'sad']"
      ]
     },
     "execution_count": 7,
     "metadata": {},
     "output_type": "execute_result"
    }
   ],
   "source": [
    "os.listdir(data_dir)"
   ]
  },
  {
   "cell_type": "code",
   "execution_count": 8,
   "metadata": {},
   "outputs": [],
   "source": [
    "image_exts = ['jpeg', 'jpg', 'bmp', 'png']"
   ]
  },
  {
   "cell_type": "code",
   "execution_count": 9,
   "metadata": {},
   "outputs": [
    {
     "name": "stdout",
     "output_type": "stream",
     "text": [
      "We have 7256 Happy Images\n",
      "We have 4853 Sad Images\n"
     ]
    }
   ],
   "source": [
    "# number of images\n",
    "happy = len(os.listdir(os.path.join(data_dir,'happy')))\n",
    "sad = len(os.listdir(os.path.join(data_dir,'sad')))\n",
    "print(f'We have {happy} Happy Images')\n",
    "print(f'We have {sad} Sad Images')"
   ]
  },
  {
   "cell_type": "code",
   "execution_count": 10,
   "metadata": {
    "tags": []
   },
   "outputs": [],
   "source": [
    "# Remove all dodgy Images\n",
    "for image_class in os.listdir(data_dir):\n",
    "    for image in os.listdir(os.path.join(data_dir,image_class)):\n",
    "        image_path = os.path.join(data_dir,image_class,image)\n",
    "        \n",
    "        try:\n",
    "            img = cv.imread(image_path)\n",
    "            tip = imghdr.what(image_path)\n",
    "            \n",
    "            if tip not in image_exts:\n",
    "                print(f\"Image not in ext list {image_path}\")\n",
    "                os.remove(image_path)\n",
    "        except Exception as e:\n",
    "            print(f\"Issue with Image '{image_path}'\")"
   ]
  },
  {
   "cell_type": "markdown",
   "metadata": {},
   "source": [
    "## 1.3 Load Data"
   ]
  },
  {
   "cell_type": "code",
   "execution_count": 11,
   "metadata": {
    "tags": []
   },
   "outputs": [
    {
     "name": "stdout",
     "output_type": "stream",
     "text": [
      "\u001b[1;31mSignature:\u001b[0m\n",
      "\u001b[0mtf\u001b[0m\u001b[1;33m.\u001b[0m\u001b[0mkeras\u001b[0m\u001b[1;33m.\u001b[0m\u001b[0mutils\u001b[0m\u001b[1;33m.\u001b[0m\u001b[0mimage_dataset_from_directory\u001b[0m\u001b[1;33m(\u001b[0m\u001b[1;33m\n",
      "\u001b[0m    \u001b[0mdirectory\u001b[0m\u001b[1;33m,\u001b[0m\u001b[1;33m\n",
      "\u001b[0m    \u001b[0mlabels\u001b[0m\u001b[1;33m=\u001b[0m\u001b[1;34m'inferred'\u001b[0m\u001b[1;33m,\u001b[0m\u001b[1;33m\n",
      "\u001b[0m    \u001b[0mlabel_mode\u001b[0m\u001b[1;33m=\u001b[0m\u001b[1;34m'int'\u001b[0m\u001b[1;33m,\u001b[0m\u001b[1;33m\n",
      "\u001b[0m    \u001b[0mclass_names\u001b[0m\u001b[1;33m=\u001b[0m\u001b[1;32mNone\u001b[0m\u001b[1;33m,\u001b[0m\u001b[1;33m\n",
      "\u001b[0m    \u001b[0mcolor_mode\u001b[0m\u001b[1;33m=\u001b[0m\u001b[1;34m'rgb'\u001b[0m\u001b[1;33m,\u001b[0m\u001b[1;33m\n",
      "\u001b[0m    \u001b[0mbatch_size\u001b[0m\u001b[1;33m=\u001b[0m\u001b[1;36m32\u001b[0m\u001b[1;33m,\u001b[0m\u001b[1;33m\n",
      "\u001b[0m    \u001b[0mimage_size\u001b[0m\u001b[1;33m=\u001b[0m\u001b[1;33m(\u001b[0m\u001b[1;36m256\u001b[0m\u001b[1;33m,\u001b[0m \u001b[1;36m256\u001b[0m\u001b[1;33m)\u001b[0m\u001b[1;33m,\u001b[0m\u001b[1;33m\n",
      "\u001b[0m    \u001b[0mshuffle\u001b[0m\u001b[1;33m=\u001b[0m\u001b[1;32mTrue\u001b[0m\u001b[1;33m,\u001b[0m\u001b[1;33m\n",
      "\u001b[0m    \u001b[0mseed\u001b[0m\u001b[1;33m=\u001b[0m\u001b[1;32mNone\u001b[0m\u001b[1;33m,\u001b[0m\u001b[1;33m\n",
      "\u001b[0m    \u001b[0mvalidation_split\u001b[0m\u001b[1;33m=\u001b[0m\u001b[1;32mNone\u001b[0m\u001b[1;33m,\u001b[0m\u001b[1;33m\n",
      "\u001b[0m    \u001b[0msubset\u001b[0m\u001b[1;33m=\u001b[0m\u001b[1;32mNone\u001b[0m\u001b[1;33m,\u001b[0m\u001b[1;33m\n",
      "\u001b[0m    \u001b[0minterpolation\u001b[0m\u001b[1;33m=\u001b[0m\u001b[1;34m'bilinear'\u001b[0m\u001b[1;33m,\u001b[0m\u001b[1;33m\n",
      "\u001b[0m    \u001b[0mfollow_links\u001b[0m\u001b[1;33m=\u001b[0m\u001b[1;32mFalse\u001b[0m\u001b[1;33m,\u001b[0m\u001b[1;33m\n",
      "\u001b[0m    \u001b[0mcrop_to_aspect_ratio\u001b[0m\u001b[1;33m=\u001b[0m\u001b[1;32mFalse\u001b[0m\u001b[1;33m,\u001b[0m\u001b[1;33m\n",
      "\u001b[0m    \u001b[1;33m**\u001b[0m\u001b[0mkwargs\u001b[0m\u001b[1;33m,\u001b[0m\u001b[1;33m\n",
      "\u001b[0m\u001b[1;33m)\u001b[0m\u001b[1;33m\u001b[0m\u001b[1;33m\u001b[0m\u001b[0m\n",
      "\u001b[1;31mDocstring:\u001b[0m\n",
      "Generates a `tf.data.Dataset` from image files in a directory.\n",
      "\n",
      "If your directory structure is:\n",
      "\n",
      "```\n",
      "main_directory/\n",
      "...class_a/\n",
      "......a_image_1.jpg\n",
      "......a_image_2.jpg\n",
      "...class_b/\n",
      "......b_image_1.jpg\n",
      "......b_image_2.jpg\n",
      "```\n",
      "\n",
      "Then calling `image_dataset_from_directory(main_directory,\n",
      "labels='inferred')` will return a `tf.data.Dataset` that yields batches of\n",
      "images from the subdirectories `class_a` and `class_b`, together with labels\n",
      "0 and 1 (0 corresponding to `class_a` and 1 corresponding to `class_b`).\n",
      "\n",
      "Supported image formats: jpeg, png, bmp, gif.\n",
      "Animated gifs are truncated to the first frame.\n",
      "\n",
      "Args:\n",
      "  directory: Directory where the data is located.\n",
      "      If `labels` is \"inferred\", it should contain\n",
      "      subdirectories, each containing images for a class.\n",
      "      Otherwise, the directory structure is ignored.\n",
      "  labels: Either \"inferred\"\n",
      "      (labels are generated from the directory structure),\n",
      "      None (no labels),\n",
      "      or a list/tuple of integer labels of the same size as the number of\n",
      "      image files found in the directory. Labels should be sorted according\n",
      "      to the alphanumeric order of the image file paths\n",
      "      (obtained via `os.walk(directory)` in Python).\n",
      "  label_mode: String describing the encoding of `labels`. Options are:\n",
      "      - 'int': means that the labels are encoded as integers\n",
      "          (e.g. for `sparse_categorical_crossentropy` loss).\n",
      "      - 'categorical' means that the labels are\n",
      "          encoded as a categorical vector\n",
      "          (e.g. for `categorical_crossentropy` loss).\n",
      "      - 'binary' means that the labels (there can be only 2)\n",
      "          are encoded as `float32` scalars with values 0 or 1\n",
      "          (e.g. for `binary_crossentropy`).\n",
      "      - None (no labels).\n",
      "  class_names: Only valid if \"labels\" is \"inferred\". This is the explicit\n",
      "      list of class names (must match names of subdirectories). Used\n",
      "      to control the order of the classes\n",
      "      (otherwise alphanumerical order is used).\n",
      "  color_mode: One of \"grayscale\", \"rgb\", \"rgba\". Default: \"rgb\".\n",
      "      Whether the images will be converted to\n",
      "      have 1, 3, or 4 channels.\n",
      "  batch_size: Size of the batches of data. Default: 32.\n",
      "    If `None`, the data will not be batched\n",
      "    (the dataset will yield individual samples).\n",
      "  image_size: Size to resize images to after they are read from disk,\n",
      "      specified as `(height, width)`. Defaults to `(256, 256)`.\n",
      "      Since the pipeline processes batches of images that must all have\n",
      "      the same size, this must be provided.\n",
      "  shuffle: Whether to shuffle the data. Default: True.\n",
      "      If set to False, sorts the data in alphanumeric order.\n",
      "  seed: Optional random seed for shuffling and transformations.\n",
      "  validation_split: Optional float between 0 and 1,\n",
      "      fraction of data to reserve for validation.\n",
      "  subset: Subset of the data to return.\n",
      "      One of \"training\", \"validation\" or \"both\".\n",
      "      Only used if `validation_split` is set.\n",
      "      When `subset=\"both\"`, the utility returns a tuple of two datasets\n",
      "      (the training and validation datasets respectively).\n",
      "  interpolation: String, the interpolation method used when resizing images.\n",
      "    Defaults to `bilinear`. Supports `bilinear`, `nearest`, `bicubic`,\n",
      "    `area`, `lanczos3`, `lanczos5`, `gaussian`, `mitchellcubic`.\n",
      "  follow_links: Whether to visit subdirectories pointed to by symlinks.\n",
      "      Defaults to False.\n",
      "  crop_to_aspect_ratio: If True, resize the images without aspect\n",
      "    ratio distortion. When the original aspect ratio differs from the target\n",
      "    aspect ratio, the output image will be cropped so as to return the\n",
      "    largest possible window in the image (of size `image_size`) that matches\n",
      "    the target aspect ratio. By default (`crop_to_aspect_ratio=False`),\n",
      "    aspect ratio may not be preserved.\n",
      "  **kwargs: Legacy keyword arguments.\n",
      "\n",
      "Returns:\n",
      "  A `tf.data.Dataset` object.\n",
      "    - If `label_mode` is None, it yields `float32` tensors of shape\n",
      "      `(batch_size, image_size[0], image_size[1], num_channels)`,\n",
      "      encoding images (see below for rules regarding `num_channels`).\n",
      "    - Otherwise, it yields a tuple `(images, labels)`, where `images`\n",
      "      has shape `(batch_size, image_size[0], image_size[1], num_channels)`,\n",
      "      and `labels` follows the format described below.\n",
      "\n",
      "Rules regarding labels format:\n",
      "  - if `label_mode` is `int`, the labels are an `int32` tensor of shape\n",
      "    `(batch_size,)`.\n",
      "  - if `label_mode` is `binary`, the labels are a `float32` tensor of\n",
      "    1s and 0s of shape `(batch_size, 1)`.\n",
      "  - if `label_mode` is `categorical`, the labels are a `float32` tensor\n",
      "    of shape `(batch_size, num_classes)`, representing a one-hot\n",
      "    encoding of the class index.\n",
      "\n",
      "Rules regarding number of channels in the yielded images:\n",
      "  - if `color_mode` is `grayscale`,\n",
      "    there's 1 channel in the image tensors.\n",
      "  - if `color_mode` is `rgb`,\n",
      "    there are 3 channels in the image tensors.\n",
      "  - if `color_mode` is `rgba`,\n",
      "    there are 4 channels in the image tensors.\n",
      "\u001b[1;31mFile:\u001b[0m      c:\\users\\dell\\.pyenv\\pyenv-win\\versions\\3.10.0\\lib\\site-packages\\keras\\utils\\image_dataset.py\n",
      "\u001b[1;31mType:\u001b[0m      function\n"
     ]
    }
   ],
   "source": [
    "# if you want know Information in details about something in tf use \"??\"\n",
    "tf.keras.utils.image_dataset_from_directory?"
   ]
  },
  {
   "cell_type": "code",
   "execution_count": 12,
   "metadata": {},
   "outputs": [
    {
     "name": "stdout",
     "output_type": "stream",
     "text": [
      "Found 12109 files belonging to 2 classes.\n"
     ]
    }
   ],
   "source": [
    "# load the Data and build the data Pipeline \n",
    "data = tf.keras.utils.image_dataset_from_directory(data_dir ,batch_size=32 , image_size=(48, 48))\n"
   ]
  },
  {
   "cell_type": "code",
   "execution_count": 13,
   "metadata": {},
   "outputs": [],
   "source": [
    "# Convert data and looping through it\n",
    "data_iterator = data.as_numpy_iterator()\n",
    "\n",
    "#grabbing one batch\n",
    "batch = data_iterator.next()\n"
   ]
  },
  {
   "cell_type": "code",
   "execution_count": 14,
   "metadata": {},
   "outputs": [
    {
     "data": {
      "text/plain": [
       "(32, 48, 48, 3)"
      ]
     },
     "execution_count": 14,
     "metadata": {},
     "output_type": "execute_result"
    }
   ],
   "source": [
    "# Images representation as numpy array\n",
    "batch[0].shape"
   ]
  },
  {
   "cell_type": "code",
   "execution_count": 15,
   "metadata": {},
   "outputs": [
    {
     "data": {
      "text/plain": [
       "array([1, 1, 0, 1, 1, 0, 1, 1, 0, 1, 0, 0, 0, 0, 0, 1, 1, 1, 1, 1, 1, 1,\n",
       "       1, 0, 0, 0, 0, 0, 1, 0, 1, 1])"
      ]
     },
     "execution_count": 15,
     "metadata": {},
     "output_type": "execute_result"
    }
   ],
   "source": [
    "# Labels\n",
    "batch[1]"
   ]
  },
  {
   "cell_type": "code",
   "execution_count": 16,
   "metadata": {},
   "outputs": [
    {
     "data": {
      "image/png": "[encoded data removed]",
      "text/plain": [
       "<Figure size 2000x2000 with 4 Axes>"
      ]
     },
     "metadata": {},
     "output_type": "display_data"
    }
   ],
   "source": [
    "# Images Visualization\n",
    "fig, ax = plt.subplots(ncols=4, figsize=(20,20))\n",
    "for idx, img in enumerate(batch[0][:4]):\n",
    "    ax[idx].imshow(img.astype(int))\n",
    "    ax[idx].title.set_text(batch[1][idx])\n",
    "    ax[idx].set_xticks([])\n",
    "    ax[idx].set_yticks([])\n"
   ]
  },
  {
   "cell_type": "markdown",
   "metadata": {},
   "source": [
    "# 2-Preprocessing Data"
   ]
  },
  {
   "cell_type": "markdown",
   "metadata": {},
   "source": [
    "## 2.1 Scale the Data"
   ]
  },
  {
   "cell_type": "code",
   "execution_count": 17,
   "metadata": {},
   "outputs": [
    {
     "name": "stdout",
     "output_type": "stream",
     "text": [
      " Max = 255.0\n",
      " Min = 0.0\n"
     ]
    }
   ],
   "source": [
    "# check Before scaleing the data \n",
    "# max is 255.0 and min is 0.0\n",
    "print(f' Max = {data.as_numpy_iterator().next()[0].max()}')\n",
    "print(f' Min = {data.as_numpy_iterator().next()[0].min()}')"
   ]
  },
  {
   "cell_type": "code",
   "execution_count": 18,
   "metadata": {},
   "outputs": [],
   "source": [
    "# apply map for scaling all images\n",
    "data = data.map(lambda x,y:(x/255,y))"
   ]
  },
  {
   "cell_type": "code",
   "execution_count": 19,
   "metadata": {},
   "outputs": [
    {
     "name": "stdout",
     "output_type": "stream",
     "text": [
      " Max become 1.0\n",
      " Min become 0.0\n"
     ]
    }
   ],
   "source": [
    "# ok Now we scaled the data \n",
    "# max is 1.0 and min is 0.0\n",
    "print(f' Max become {data.as_numpy_iterator().next()[0].max()}')\n",
    "print(f' Min become {data.as_numpy_iterator().next()[0].min()}')"
   ]
  },
  {
   "cell_type": "markdown",
   "metadata": {},
   "source": [
    "## 2.2 Split Data"
   ]
  },
  {
   "cell_type": "code",
   "execution_count": 20,
   "metadata": {},
   "outputs": [
    {
     "name": "stdout",
     "output_type": "stream",
     "text": [
      "Number of batches in data = 379\n"
     ]
    }
   ],
   "source": [
    "# how many Batchs in the data\n",
    "print(f'Number of batches in data = {len(data)}')"
   ]
  },
  {
   "cell_type": "code",
   "execution_count": 21,
   "metadata": {},
   "outputs": [
    {
     "name": "stdout",
     "output_type": "stream",
     "text": [
      "train_size, test_size, val_size = (227, 75, 75)\n"
     ]
    }
   ],
   "source": [
    "# spliting the data into train, test, validation sets\n",
    "train_size, test_size, val_size = int(len(data)*.6), int(len(data)*(0.2)), int(len(data)*(.2))\n",
    "print(f'train_size, test_size, val_size = {train_size, test_size, val_size}')"
   ]
  },
  {
   "cell_type": "code",
   "execution_count": 22,
   "metadata": {},
   "outputs": [],
   "source": [
    "# apply splitting \n",
    "train = data.take(train_size)\n",
    "test = data.skip(train_size).take(test_size)\n",
    "val = data.skip(train_size + test_size).take(val_size)"
   ]
  },
  {
   "cell_type": "code",
   "execution_count": 23,
   "metadata": {},
   "outputs": [
    {
     "name": "stdout",
     "output_type": "stream",
     "text": [
      "length of testing batches = 75\n",
      "length of training batches = 227\n",
      "length of validation batches = 75\n"
     ]
    }
   ],
   "source": [
    "# check that split is Right\n",
    "print(f'length of testing batches = {len(test)}')\n",
    "print(f'length of training batches = {len(train)}')\n",
    "print(f'length of validation batches = {len(val)}')"
   ]
  },
  {
   "cell_type": "markdown",
   "metadata": {},
   "source": [
    "# 3- The Deep Model"
   ]
  },
  {
   "cell_type": "markdown",
   "metadata": {},
   "source": [
    "## 3.1 Building Deeplearning Model"
   ]
  },
  {
   "cell_type": "code",
   "execution_count": 24,
   "metadata": {},
   "outputs": [],
   "source": [
    "# import dependencies\n",
    "from tensorflow.keras.models import Sequential\n",
    "from tensorflow.keras.layers import Conv2D, MaxPooling2D, Dense, Flatten, Dropout\n"
   ]
  },
  {
   "cell_type": "code",
   "execution_count": 25,
   "metadata": {},
   "outputs": [],
   "source": [
    "# initial model\n",
    "Model = Sequential(name='Mido')"
   ]
  },
  {
   "cell_type": "code",
   "execution_count": 26,
   "metadata": {
    "tags": []
   },
   "outputs": [
    {
     "name": "stdout",
     "output_type": "stream",
     "text": [
      "\u001b[1;31mSignature:\u001b[0m      \u001b[0mModel\u001b[0m\u001b[1;33m(\u001b[0m\u001b[1;33m*\u001b[0m\u001b[0margs\u001b[0m\u001b[1;33m,\u001b[0m \u001b[1;33m**\u001b[0m\u001b[0mkwargs\u001b[0m\u001b[1;33m)\u001b[0m\u001b[1;33m\u001b[0m\u001b[1;33m\u001b[0m\u001b[0m\n",
      "\u001b[1;31mType:\u001b[0m           Sequential\n",
      "\u001b[1;31mString form:\u001b[0m    <keras.engine.sequential.Sequential object at 0x000001CF1AB72230>\n",
      "\u001b[1;31mFile:\u001b[0m           c:\\users\\dell\\.pyenv\\pyenv-win\\versions\\3.10.0\\lib\\site-packages\\keras\\engine\\sequential.py\n",
      "\u001b[1;31mDocstring:\u001b[0m     \n",
      "`Sequential` groups a linear stack of layers into a `tf.keras.Model`.\n",
      "\n",
      "`Sequential` provides training and inference features on this model.\n",
      "\n",
      "Examples:\n",
      "\n",
      "```python\n",
      "# Optionally, the first layer can receive an `input_shape` argument:\n",
      "model = tf.keras.Sequential()\n",
      "model.add(tf.keras.layers.Dense(8, input_shape=(16,)))\n",
      "# Afterwards, we do automatic shape inference:\n",
      "model.add(tf.keras.layers.Dense(4))\n",
      "\n",
      "# This is identical to the following:\n",
      "model = tf.keras.Sequential()\n",
      "model.add(tf.keras.Input(shape=(16,)))\n",
      "model.add(tf.keras.layers.Dense(8))\n",
      "\n",
      "# Note that you can also omit the `input_shape` argument.\n",
      "# In that case the model doesn't have any weights until the first call\n",
      "# to a training/evaluation method (since it isn't yet built):\n",
      "model = tf.keras.Sequential()\n",
      "model.add(tf.keras.layers.Dense(8))\n",
      "model.add(tf.keras.layers.Dense(4))\n",
      "# model.weights not created yet\n",
      "\n",
      "# Whereas if you specify the input shape, the model gets built\n",
      "# continuously as you are adding layers:\n",
      "model = tf.keras.Sequential()\n",
      "model.add(tf.keras.layers.Dense(8, input_shape=(16,)))\n",
      "model.add(tf.keras.layers.Dense(4))\n",
      "len(model.weights)\n",
      "# Returns \"4\"\n",
      "\n",
      "# When using the delayed-build pattern (no input shape specified), you can\n",
      "# choose to manually build your model by calling\n",
      "# `build(batch_input_shape)`:\n",
      "model = tf.keras.Sequential()\n",
      "model.add(tf.keras.layers.Dense(8))\n",
      "model.add(tf.keras.layers.Dense(4))\n",
      "model.build((None, 16))\n",
      "len(model.weights)\n",
      "# Returns \"4\"\n",
      "\n",
      "# Note that when using the delayed-build pattern (no input shape specified),\n",
      "# the model gets built the first time you call `fit`, `eval`, or `predict`,\n",
      "# or the first time you call the model on some input data.\n",
      "model = tf.keras.Sequential()\n",
      "model.add(tf.keras.layers.Dense(8))\n",
      "model.add(tf.keras.layers.Dense(1))\n",
      "model.compile(optimizer='sgd', loss='mse')\n",
      "# This builds the model for the first time:\n",
      "model.fit(x, y, batch_size=32, epochs=10)\n",
      "```\n",
      "\u001b[1;31mInit docstring:\u001b[0m\n",
      "Creates a `Sequential` model instance.\n",
      "\n",
      "Args:\n",
      "  layers: Optional list of layers to add to the model.\n",
      "  name: Optional name for the model.\n"
     ]
    }
   ],
   "source": [
    "# show model API\n",
    "Model?"
   ]
  },
  {
   "cell_type": "code",
   "execution_count": 27,
   "metadata": {},
   "outputs": [],
   "source": [
    "# preforming Convoluation layers and maxplooling layers\n",
    "Model.add(Conv2D(16, (3,3), 1, activation='relu', input_shape=(48,48,3)))\n",
    "Model.add(MaxPooling2D())\n",
    "\n",
    "Model.add(Conv2D(32, (3,3), 1,  activation='relu'))\n",
    "Model.add(MaxPooling2D())\n",
    "\n",
    "Model.add(Conv2D(16, (3,3), 1,  activation='relu'))\n",
    "Model.add(MaxPooling2D())\n",
    "\n",
    "# preforming Flatten layers and Dense layers\n",
    "Model.add(Flatten())\n",
    "Model.add(Dense(256, activation='relu'))\n",
    "Model.add(Dense(1, activation='sigmoid'))\n"
   ]
  },
  {
   "cell_type": "code",
   "execution_count": 28,
   "metadata": {
    "tags": []
   },
   "outputs": [
    {
     "name": "stdout",
     "output_type": "stream",
     "text": [
      "Model: \"Mido\"\n",
      "_________________________________________________________________\n",
      " Layer (type)                Output Shape              Param #   \n",
      "=================================================================\n",
      " conv2d (Conv2D)             (None, 46, 46, 16)        448       \n",
      "                                                                 \n",
      " max_pooling2d (MaxPooling2D  (None, 23, 23, 16)       0         \n",
      " )                                                               \n",
      "                                                                 \n",
      " conv2d_1 (Conv2D)           (None, 21, 21, 32)        4640      \n",
      "                                                                 \n",
      " max_pooling2d_1 (MaxPooling  (None, 10, 10, 32)       0         \n",
      " 2D)                                                             \n",
      "                                                                 \n",
      " conv2d_2 (Conv2D)           (None, 8, 8, 16)          4624      \n",
      "                                                                 \n",
      " max_pooling2d_2 (MaxPooling  (None, 4, 4, 16)         0         \n",
      " 2D)                                                             \n",
      "                                                                 \n",
      " flatten (Flatten)           (None, 256)               0         \n",
      "                                                                 \n",
      " dense (Dense)               (None, 256)               65792     \n",
      "                                                                 \n",
      " dense_1 (Dense)             (None, 1)                 257       \n",
      "                                                                 \n",
      "=================================================================\n",
      "Total params: 75,761\n",
      "Trainable params: 75,761\n",
      "Non-trainable params: 0\n",
      "_________________________________________________________________\n"
     ]
    }
   ],
   "source": [
    "# print model summary\n",
    "Model.summary()"
   ]
  },
  {
   "cell_type": "code",
   "execution_count": 29,
   "metadata": {},
   "outputs": [],
   "source": [
    "# Compile the model\n",
    "Model.compile(\n",
    "    optimizer = 'adam',\n",
    "    loss = 'BinaryCrossentropy',\n",
    "    metrics = ['accuracy'])"
   ]
  },
  {
   "cell_type": "markdown",
   "metadata": {},
   "source": [
    "## 3.2 Train"
   ]
  },
  {
   "cell_type": "code",
   "execution_count": 30,
   "metadata": {},
   "outputs": [],
   "source": [
    "log_dir = 'logs'"
   ]
  },
  {
   "cell_type": "code",
   "execution_count": 31,
   "metadata": {},
   "outputs": [],
   "source": [
    "# Enable Visualizations for TensorBoard\n",
    "tensorboard_callback = tf.keras.callbacks.TensorBoard(log_dir)\n"
   ]
  },
  {
   "cell_type": "code",
   "execution_count": 32,
   "metadata": {
    "tags": []
   },
   "outputs": [
    {
     "name": "stdout",
     "output_type": "stream",
     "text": [
      "Epoch 1/10\n",
      "227/227 [==============================] - 7s 24ms/step - loss: 0.6597 - accuracy: 0.6112 - val_loss: 0.5991 - val_accuracy: 0.6846\n",
      "Epoch 2/10\n",
      "227/227 [==============================] - 6s 26ms/step - loss: 0.5493 - accuracy: 0.7172 - val_loss: 0.5248 - val_accuracy: 0.7350\n",
      "Epoch 3/10\n",
      "227/227 [==============================] - 7s 29ms/step - loss: 0.4790 - accuracy: 0.7617 - val_loss: 0.4746 - val_accuracy: 0.7600\n",
      "Epoch 4/10\n",
      "227/227 [==============================] - 7s 29ms/step - loss: 0.4310 - accuracy: 0.7919 - val_loss: 0.4670 - val_accuracy: 0.7671\n",
      "Epoch 5/10\n",
      "227/227 [==============================] - 6s 27ms/step - loss: 0.3923 - accuracy: 0.8153 - val_loss: 0.4237 - val_accuracy: 0.7987\n",
      "Epoch 6/10\n",
      "227/227 [==============================] - 6s 28ms/step - loss: 0.3664 - accuracy: 0.8264 - val_loss: 0.4089 - val_accuracy: 0.8042\n",
      "Epoch 7/10\n",
      "227/227 [==============================] - 6s 27ms/step - loss: 0.3371 - accuracy: 0.8460 - val_loss: 0.3922 - val_accuracy: 0.8150\n",
      "Epoch 8/10\n",
      "227/227 [==============================] - 7s 29ms/step - loss: 0.3198 - accuracy: 0.8553 - val_loss: 0.4016 - val_accuracy: 0.8096\n",
      "Epoch 9/10\n",
      "227/227 [==============================] - 6s 27ms/step - loss: 0.2962 - accuracy: 0.8652 - val_loss: 0.4060 - val_accuracy: 0.8125\n",
      "Epoch 10/10\n",
      "227/227 [==============================] - 6s 26ms/step - loss: 0.2791 - accuracy: 0.8787 - val_loss: 0.3952 - val_accuracy: 0.8158\n"
     ]
    }
   ],
   "source": [
    "# Fitting the Model and Save details in History\n",
    "history = Model.fit(train, epochs=10, validation_data=val)"
   ]
  },
  {
   "cell_type": "markdown",
   "metadata": {},
   "source": [
    "## 3.3 Plot Performance"
   ]
  },
  {
   "cell_type": "code",
   "execution_count": 33,
   "metadata": {},
   "outputs": [
    {
     "data": {
      "image/png": "[encoded data removed]",
      "text/plain": [
       "<Figure size 640x480 with 1 Axes>"
      ]
     },
     "metadata": {},
     "output_type": "display_data"
    }
   ],
   "source": [
    "# plot loss vs val_loss to see model performance\n",
    "fig = plt.figure()\n",
    "plt.plot(history.history['loss'], color='teal', label='Loss')\n",
    "plt.plot(history.history['val_loss'], color='orange', label='val_loss')\n",
    "plt.suptitle(\"Loss\", fontsize=15)\n",
    "plt.legend()\n",
    "plt.show()"
   ]
  },
  {
   "cell_type": "code",
   "execution_count": 34,
   "metadata": {},
   "outputs": [
    {
     "data": {
      "image/png": "[encoded data removed]",
      "text/plain": [
       "<Figure size 640x480 with 1 Axes>"
      ]
     },
     "metadata": {},
     "output_type": "display_data"
    }
   ],
   "source": [
    "# plot accuracy vs val_accuracy to see model performance\n",
    "fig = plt.figure()\n",
    "plt.plot(history.history['accuracy'], color='teal', label='accuracy')\n",
    "plt.plot(history.history['val_accuracy'], color='orange', label='val_accuracy')\n",
    "plt.suptitle(\"Accuracy\", fontsize=15)\n",
    "plt.legend()\n",
    "plt.show()"
   ]
  },
  {
   "cell_type": "markdown",
   "metadata": {},
   "source": [
    "# 4- Evaluation Performance"
   ]
  },
  {
   "cell_type": "markdown",
   "metadata": {},
   "source": [
    "## 4.1 Evaluate"
   ]
  },
  {
   "cell_type": "code",
   "execution_count": 35,
   "metadata": {},
   "outputs": [],
   "source": [
    "# import metrics\n",
    "from tensorflow.keras.metrics import Precision, Recall, BinaryAccuracy"
   ]
  },
  {
   "cell_type": "code",
   "execution_count": 36,
   "metadata": {},
   "outputs": [],
   "source": [
    "# make instance \n",
    "pre = Precision()\n",
    "re = Recall()\n",
    "acc = BinaryAccuracy()"
   ]
  },
  {
   "cell_type": "code",
   "execution_count": 37,
   "metadata": {
    "tags": []
   },
   "outputs": [
    {
     "name": "stdout",
     "output_type": "stream",
     "text": [
      "1/1 [==============================] - 0s 121ms/step\n",
      "1/1 [==============================] - 0s 22ms/step\n",
      "1/1 [==============================] - 0s 22ms/step\n",
      "1/1 [==============================] - 0s 23ms/step\n",
      "1/1 [==============================] - 0s 26ms/step\n",
      "1/1 [==============================] - 0s 21ms/step\n",
      "1/1 [==============================] - 0s 22ms/step\n",
      "1/1 [==============================] - 0s 21ms/step\n",
      "1/1 [==============================] - 0s 21ms/step\n",
      "1/1 [==============================] - 0s 21ms/step\n",
      "1/1 [==============================] - 0s 21ms/step\n",
      "1/1 [==============================] - 0s 21ms/step\n",
      "1/1 [==============================] - 0s 22ms/step\n",
      "1/1 [==============================] - 0s 21ms/step\n",
      "1/1 [==============================] - 0s 20ms/step\n",
      "1/1 [==============================] - 0s 23ms/step\n",
      "1/1 [==============================] - 0s 21ms/step\n",
      "1/1 [==============================] - 0s 21ms/step\n",
      "1/1 [==============================] - 0s 21ms/step\n",
      "1/1 [==============================] - 0s 21ms/step\n",
      "1/1 [==============================] - 0s 21ms/step\n",
      "1/1 [==============================] - 0s 24ms/step\n",
      "1/1 [==============================] - 0s 20ms/step\n",
      "1/1 [==============================] - 0s 21ms/step\n",
      "1/1 [==============================] - 0s 21ms/step\n",
      "1/1 [==============================] - 0s 21ms/step\n",
      "1/1 [==============================] - 0s 21ms/step\n",
      "1/1 [==============================] - 0s 22ms/step\n",
      "1/1 [==============================] - 0s 23ms/step\n",
      "1/1 [==============================] - 0s 23ms/step\n",
      "1/1 [==============================] - 0s 21ms/step\n",
      "1/1 [==============================] - 0s 22ms/step\n",
      "1/1 [==============================] - 0s 21ms/step\n",
      "1/1 [==============================] - 0s 21ms/step\n",
      "1/1 [==============================] - 0s 21ms/step\n",
      "1/1 [==============================] - 0s 20ms/step\n",
      "1/1 [==============================] - 0s 21ms/step\n",
      "1/1 [==============================] - 0s 21ms/step\n",
      "1/1 [==============================] - 0s 23ms/step\n",
      "1/1 [==============================] - 0s 22ms/step\n",
      "1/1 [==============================] - 0s 21ms/step\n",
      "1/1 [==============================] - 0s 21ms/step\n",
      "1/1 [==============================] - 0s 21ms/step\n",
      "1/1 [==============================] - 0s 24ms/step\n",
      "1/1 [==============================] - 0s 23ms/step\n",
      "1/1 [==============================] - 0s 23ms/step\n",
      "1/1 [==============================] - 0s 21ms/step\n",
      "1/1 [==============================] - 0s 23ms/step\n",
      "1/1 [==============================] - 0s 22ms/step\n",
      "1/1 [==============================] - 0s 21ms/step\n",
      "1/1 [==============================] - 0s 22ms/step\n",
      "1/1 [==============================] - 0s 22ms/step\n",
      "1/1 [==============================] - 0s 25ms/step\n",
      "1/1 [==============================] - 0s 23ms/step\n",
      "1/1 [==============================] - 0s 22ms/step\n",
      "1/1 [==============================] - 0s 20ms/step\n",
      "1/1 [==============================] - 0s 23ms/step\n",
      "1/1 [==============================] - 0s 21ms/step\n",
      "1/1 [==============================] - 0s 23ms/step\n",
      "1/1 [==============================] - 0s 23ms/step\n",
      "1/1 [==============================] - 0s 20ms/step\n",
      "1/1 [==============================] - 0s 22ms/step\n",
      "1/1 [==============================] - 0s 21ms/step\n",
      "1/1 [==============================] - 0s 22ms/step\n",
      "1/1 [==============================] - 0s 22ms/step\n",
      "1/1 [==============================] - 0s 21ms/step\n",
      "1/1 [==============================] - 0s 20ms/step\n",
      "1/1 [==============================] - 0s 22ms/step\n",
      "1/1 [==============================] - 0s 22ms/step\n",
      "1/1 [==============================] - 0s 22ms/step\n",
      "1/1 [==============================] - 0s 22ms/step\n",
      "1/1 [==============================] - 0s 22ms/step\n",
      "1/1 [==============================] - 0s 21ms/step\n",
      "1/1 [==============================] - 0s 25ms/step\n",
      "1/1 [==============================] - 0s 23ms/step\n"
     ]
    }
   ],
   "source": [
    "# compute metrics on test data\n",
    "for batch in test.as_numpy_iterator():\n",
    "    X,y = batch\n",
    "    yhat = Model.predict(X)\n",
    "    pre.update_state(y, yhat)\n",
    "    re.update_state(y, yhat)\n",
    "    acc.update_state(y, yhat)"
   ]
  },
  {
   "cell_type": "code",
   "execution_count": 38,
   "metadata": {},
   "outputs": [
    {
     "name": "stdout",
     "output_type": "stream",
     "text": [
      "Accuracy = 0.831250011920929\n",
      "Recall = 0.7949259877204895\n",
      "Precision = 0.7808930277824402\n"
     ]
    }
   ],
   "source": [
    "# Show metrics result\n",
    "print(f'Accuracy = {acc.result().numpy()}')\n",
    "print(f'Recall = {re.result().numpy()}')\n",
    "print(f'Precision = {pre.result().numpy()}')"
   ]
  },
  {
   "cell_type": "markdown",
   "metadata": {},
   "source": [
    "## 4.2 Test"
   ]
  },
  {
   "cell_type": "code",
   "execution_count": 39,
   "metadata": {},
   "outputs": [
    {
     "data": {
      "image/png": "[encoded data removed]",
      "text/plain": [
       "<Figure size 640x480 with 1 Axes>"
      ]
     },
     "metadata": {},
     "output_type": "display_data"
    }
   ],
   "source": [
    "# resize the image\n",
    "test_img = cv.imread('Test_images\\Sad.jpg')\n",
    "#plt.imshow(test_img)\n",
    "#resize = tf.image.resize(test_img , (256,256))\n",
    "plt.imshow(test_img.astype(int))\n",
    "plt.show()"
   ]
  },
  {
   "cell_type": "code",
   "execution_count": 40,
   "metadata": {},
   "outputs": [
    {
     "name": "stdout",
     "output_type": "stream",
     "text": [
      "1/1 [==============================] - 0s 171ms/step\n"
     ]
    }
   ],
   "source": [
    "# expand because the model expected a batch of images\n",
    "yhat = Model.predict(np.expand_dims(test_img/255.0, 0))"
   ]
  },
  {
   "cell_type": "code",
   "execution_count": 41,
   "metadata": {},
   "outputs": [
    {
     "name": "stdout",
     "output_type": "stream",
     "text": [
      "Predicted Class is Sad\n"
     ]
    }
   ],
   "source": [
    "# Happy or Sad\n",
    "if yhat > 0.5 :\n",
    "    print(f'Predicted Class is Sad')\n",
    "else:\n",
    "    print(f'Predicted Class is Happy')"
   ]
  },
  {
   "cell_type": "markdown",
   "metadata": {},
   "source": [
    "# 5- Save the Model"
   ]
  },
  {
   "cell_type": "code",
   "execution_count": 42,
   "metadata": {},
   "outputs": [],
   "source": [
    "# Save first version of our model\n",
    "Model.save(os.path.join('models','happy_sad_model_V1.h5'))"
   ]
  },
  {
   "cell_type": "code",
   "execution_count": 43,
   "metadata": {},
   "outputs": [],
   "source": [
    "# How to load the new model\n",
    "from tensorflow.keras.models import load_model\n",
    "new_model = load_model(os.path.join('models','happy_sad_model_V1.h5'))"
   ]
  },
  {
   "cell_type": "markdown",
   "metadata": {},
   "source": [
    " **Done Here , Alhamdulla :)** "
   ]
  }
 ],
 "metadata": {
  "colab": {
   "provenance": []
  },
  "kernelspec": {
   "display_name": "Python 3.10.0 64-bit ('3.10.0')",
   "language": "python",
   "name": "python3"
  },
  "language_info": {
   "codemirror_mode": {
    "name": "ipython",
    "version": 3
   },
   "file_extension": ".py",
   "mimetype": "text/x-python",
   "name": "python",
   "nbconvert_exporter": "python",
   "pygments_lexer": "ipython3",
   "version": "3.10.0"
  },
  "vscode": {
   "interpreter": {
    "hash": "ead3e91e135fbaa728b4bbcd02d19569dbf39ef118ea03781de3e3d360ab0d33"
   }
  }
 },
 "nbformat": 4,
 "nbformat_minor": 4
}
